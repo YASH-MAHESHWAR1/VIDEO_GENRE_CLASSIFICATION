{
  "nbformat": 4,
  "nbformat_minor": 0,
  "metadata": {
    "colab": {
      "provenance": [],
      "gpuType": "V28"
    },
    "kernelspec": {
      "name": "python3",
      "display_name": "Python 3"
    },
    "language_info": {
      "name": "python"
    },
    "accelerator": "TPU"
  },
  "cells": [
    {
      "cell_type": "markdown",
      "source": [
        "THIS IS CODE FOR SOLVING TRACK 1 (CLASSIFICATION OF SPORT VIDEOS)\n",
        "\n",
        "\n"
      ],
      "metadata": {
        "id": "j6YtogLY0s_V"
      }
    },
    {
      "cell_type": "code",
      "execution_count": null,
      "metadata": {
        "id": "eDY9uXCfdXcF"
      },
      "outputs": [],
      "source": [
        "from google.colab import drive\n",
        "drive.mount('/content/drive')"
      ]
    },
    {
      "cell_type": "code",
      "source": [
        "# Discard the output of this cell.\n",
        "%%capture\n",
        "# Install the required libraries.\n",
        "!pip install keras"
      ],
      "metadata": {
        "id": "yTu99AVQhHja"
      },
      "execution_count": null,
      "outputs": []
    },
    {
      "cell_type": "code",
      "source": [
        "# Import the required libraries.\n",
        "import os\n",
        "import cs\n",
        "import cv2\n",
        "import math\n",
        "import keras\n",
        "import random\n",
        "import numpy as np\n",
        "import datetime as dt\n",
        "import tensorflow as tf\n",
        "from collections import deque\n",
        "import matplotlib.pyplot as plt\n",
        "%matplotlib inline\n",
        "from tensorflow.keras.preprocessing.image import ImageDataGenerator\n",
        "from tensorflow.keras.applications import ResNet50\n",
        "from sklearn.model_selection import train_test_split\n",
        "from keras.layers import TimeDistributed,BatchNormalization, SeparableConv2D,Input,Conv2D, MaxPooling2D, Dropout, Flatten, LSTM, Dense,Conv3D, MaxPooling3D, GlobalAveragePooling2D\n",
        "from keras.models import Sequential\n",
        "from tensorflow.keras.optimizers import Adam\n",
        "from tensorflow. keras.utils import to_categorical\n",
        "from tensorflow. keras.callbacks import EarlyStopping, ModelCheckpoint, ReduceLROnPlateau\n",
        "from tensorflow.keras.callbacks import LearningRateScheduler\n",
        "from tensorflow.keras.utils import plot_model"
      ],
      "metadata": {
        "id": "nvxUDq_ghLVE"
      },
      "execution_count": null,
      "outputs": []
    },
    {
      "cell_type": "code",
      "source": [
        "# Specify the height and width to which each video frame will be resized in our dataset.\n",
        "IMAGE_HEIGHT, IMAGE_WIDTH = 224,224\n",
        "# Specify the number of frames of a video that will be fed to the model as one sequence.\n",
        "SEQUENCE_LENGTH = 32\n",
        "# Specify the directory containing the UCF50 dataset.\n",
        "DATASET_DIR1 = \"/content/drive/MyDrive/Colab Notebooks/Few Shot video classification/Train\"\n",
        "DATASET_DIR2 = \"/content/drive/MyDrive/Colab Notebooks/Few Shot video classification/Test/Support-set\"\n",
        "# Specify the list containing the names of the classes used for training. Feel free to choose any set of classes.\n",
        "CLASSES_LIST= [\"football\", \"judo\", \"rugby\", \"squash\",\"wrestling\"]"
      ],
      "metadata": {
        "id": "VNsVGwszhWfb"
      },
      "execution_count": null,
      "outputs": []
    },
    {
      "cell_type": "code",
      "source": [
        "def frames_extraction (video_path):\n",
        "  '''\n",
        "  This function will extract the required frames from a video after resizing and normalizing them.\n",
        "  Args:\n",
        "  video_path: The path of the video in the disk, whose frames are to be extracted.\n",
        "  Returns:\n",
        "  frames list: A list containing the resized and normalized frames of the video.\n",
        "  111\n",
        "  '''\n",
        "#Declare a list to store video frames.\n",
        "  frames_list = []\n",
        "#Read the Video File using the VideoCapture object.\n",
        "  video_reader = cv2.VideoCapture(video_path)\n",
        "# Get the total number of frames in the video.\n",
        "  video_frames_count = int(video_reader.get(cv2.CAP_PROP_FRAME_COUNT))\n",
        "  print(video_frames_count)\n",
        "# Calculate the the interval after which frames will be added to the list..\n",
        "  skip_frames_window = max(int (video_frames_count/SEQUENCE_LENGTH), 1)\n",
        "# Iterate through the Video Frames.\n",
        "  for frame_counter in range(SEQUENCE_LENGTH):\n",
        "# Set the current frame position of the video.\n",
        "    video_reader.set(cv2.CAP_PROP_POS_FRAMES, frame_counter *skip_frames_window)\n",
        "# Reading the frame from the video.\n",
        "    success, frame =video_reader.read()\n",
        "# Check if Video frame is not successfully read then break the loop\n",
        "    if not success:\n",
        "      break\n",
        "# Resize the Frame to fixed height and width.\n",
        "    resized_frame = cv2.resize(frame, (IMAGE_HEIGHT, IMAGE_WIDTH))\n",
        "# Normalize the resized frame by dividing it with 255 so that each pixel value then lies between 0 and 1\n",
        "    normalized_frame = resized_frame / 255\n",
        "#Append the normalized frame into the frames list.\n",
        "    frames_list.append(normalized_frame)\n",
        "# Release the VideoCapture object.\n",
        "  video_reader.release()\n",
        "#Return the frames list.\n",
        "  return frames_list"
      ],
      "metadata": {
        "id": "kQxGx541itEs"
      },
      "execution_count": null,
      "outputs": []
    },
    {
      "cell_type": "code",
      "source": [
        "def create_dataset():\n",
        "  '''\n",
        "  This function will extract the data of the selected classes and create the required dataset.\n",
        "  Returns:\n",
        "  features: A list containing the extracted frames of the videos.\n",
        "  labels: A list containing the indexes of the classes associated with the videos.\n",
        "  video_files_paths: A list containing the paths of the videos in the disk.\n",
        "  '''\n",
        "# Declared Empty Lists to store the features, labels and video file path values.\n",
        "  features = []\n",
        "  labels = []\n",
        "  video_files_paths = []\n",
        "# Iterating through all the classes mentioned in the classes list\n",
        "  for class_index, class_name in enumerate (CLASSES_LIST):\n",
        "# Display the name of the class whose data is being extracted.\n",
        "    print (f'Extracting Data of Class: {class_name}')\n",
        "# Get the list of video files present in the specific class name directory.\n",
        "    files_list= os.listdir (os.path.join(DATASET_DIR1, class_name))\n",
        "# Iterate through all the files present in the files list.\n",
        "    for file_name in files_list:\n",
        "# Get the complete video path.\n",
        "      video_file_path = os.path.join(DATASET_DIR1, class_name, file_name)\n",
        "#Extract the frames of the video file.\n",
        "      frames=frames_extraction (video_file_path)\n",
        "# Check if the extracted frames are equal to the SEQUENCE_LENGTH specified above.\n",
        "# So ignore the vides having frames less than the SEQUENCE_LENGTH.\n",
        "      print(len(frames))\n",
        "      if len(frames) == SEQUENCE_LENGTH:\n",
        "# Append the data to their repective lists.\n",
        "        print(\"\\n\")\n",
        "        features.append(frames)\n",
        "        labels.append(class_index)\n",
        "        video_files_paths.append(video_file_path)\n",
        "      if len(frames) < SEQUENCE_LENGTH:\n",
        "        # Get the last frame\n",
        "        last_frame = frames[-1] if frames else None\n",
        "        # Duplicate the last frame until the sequence reaches the desired length\n",
        "        while len(frames) < SEQUENCE_LENGTH and last_frame is not None:\n",
        "            frames.append(last_frame)\n",
        "        print(\"\\n\")\n",
        "        features.append(frames)\n",
        "        labels.append(class_index)\n",
        "        video_files_paths.append(video_file_path)\n",
        "        print(len(frames))\n",
        "# Converting the list to numpy arrays\n",
        "\n",
        "  features=np.asarray(features)\n",
        "  labels=np.array (labels)\n",
        "#Return the frames, class index, and video file path.\n",
        "  return features, labels, video_files_paths"
      ],
      "metadata": {
        "id": "-dBoSjI-iwPA"
      },
      "execution_count": null,
      "outputs": []
    },
    {
      "cell_type": "code",
      "source": [
        "def create_dataset_test():\n",
        "  '''\n",
        "  This function will extract the data of the selected classes and create the required dataset.\n",
        "  Returns:\n",
        "  features: A list containing the extracted frames of the videos.\n",
        "  labels: A list containing the indexes of the classes associated with the videos.\n",
        "  video_files_paths: A list containing the paths of the videos in the disk.\n",
        "  '''\n",
        "# Declared Empty Lists to store the features, labels and video file path values.\n",
        "  features = []\n",
        "  labels = []\n",
        "  video_files_paths = []\n",
        "  c=0\n",
        "# Iterating through all the classes mentioned in the classes list\n",
        "  for class_index in range(1,len(CLASSES_LIST)):\n",
        "# Display the name of the class whose data is being extracted.\n",
        "    print (f'Extracting Data of Class: rugby')\n",
        "# Get the list of video files present in the specific class name directory.\n",
        "#/content/drive/MyDrive/Colab Notebooks/few-shot-video-classification/Few Shot video classification/Test/Support-set/0\n",
        "    files_list= os.listdir (os.path.join(DATASET_DIR2, str(class_index-1)))\n",
        "# Iterate through all the files present in the files list.\n",
        "    for file_name in files_list:\n",
        "# Get the complete video path.\n",
        "      video_file_path = os.path.join(DATASET_DIR2,str(class_index-1), file_name)\n",
        "#Extract the frames of the video file.\n",
        "      frames=frames_extraction (video_file_path)\n",
        "# Check if the extracted frames are equal to the SEQUENCE_LENGTH specified above.\n",
        "# So ignore the vides having frames less than the SEQUENCE_LENGTH.\n",
        "      print(len(frames))\n",
        "      if len(frames) == SEQUENCE_LENGTH:\n",
        "# Append the data to their repective lists.\n",
        "        print(\"\\n\")\n",
        "\n",
        "        features.append(frames)\n",
        "        labels.append(c)\n",
        "        video_files_paths.append(video_file_path)\n",
        "      if len(frames) < SEQUENCE_LENGTH:\n",
        "        # Get the last frame\n",
        "        last_frame = frames[-1] if frames else None\n",
        "        # Duplicate the last frame until the sequence reaches the desired length\n",
        "        while len(frames) < SEQUENCE_LENGTH and last_frame is not None:\n",
        "            frames.append(last_frame)\n",
        "        print(\"\\n\")\n",
        "        features.append(frames)\n",
        "        labels.append(c)\n",
        "        video_files_paths.append(video_file_path)\n",
        "        print(len(frames))\n",
        "# Converting the list to numpy arrays\n",
        "    c=c+1\n",
        "  features=np.asarray(features)\n",
        "  labels=np.array (labels)\n",
        "#Return the frames, class index, and video file path.\n",
        "  return features, labels, video_files_paths"
      ],
      "metadata": {
        "id": "njxdkz3Diz57"
      },
      "execution_count": null,
      "outputs": []
    },
    {
      "cell_type": "code",
      "source": [
        "# Create the dataset.\n",
        "featuress, labelss, video_files_pathss=create_dataset_test()\n",
        "features_test=featuress\n",
        "labels_test=labelss"
      ],
      "metadata": {
        "id": "fHfyg2dyi2-t"
      },
      "execution_count": null,
      "outputs": []
    },
    {
      "cell_type": "code",
      "source": [
        "# Create the dataset.\n",
        "features, labels, video_files_paths=create_dataset()\n",
        "features_train=features\n",
        "labels_train=labels"
      ],
      "metadata": {
        "id": "QKzv9RRpi5p3",
        "collapsed": true
      },
      "execution_count": null,
      "outputs": []
    },
    {
      "cell_type": "code",
      "source": [
        "LEARNING_RATE = 0.0005"
      ],
      "metadata": {
        "id": "8klugh0CjJ8T"
      },
      "execution_count": null,
      "outputs": []
    },
    {
      "cell_type": "code",
      "source": [
        "from sklearn.model_selection import train_test_split\n",
        "# Define the proportion of data to be used for validation\n",
        "validation_split = 0.20  # 20% for validation\n",
        "# Split the data\n",
        "train_data, val_data, train_labels, val_labels = train_test_split(\n",
        "    features_train,\n",
        "    labels_train,\n",
        "    test_size=validation_split,\n",
        "    random_state=42  # Ensures reproducibility\n",
        ")\n",
        "print(train_labels.shape)\n",
        "print(val_labels.shape)"
      ],
      "metadata": {
        "id": "QTm7_8jHj_9Z",
        "collapsed": true
      },
      "execution_count": null,
      "outputs": []
    },
    {
      "cell_type": "code",
      "source": [],
      "metadata": {
        "id": "Kde8i9ca8w2P",
        "collapsed": true
      },
      "execution_count": null,
      "outputs": []
    },
    {
      "cell_type": "code",
      "source": [
        "#chaecking and adjusting the labels shape\n",
        "print(train_labels.shape)\n",
        "print(val_labels.shape)\n",
        "print(labels_test.shape)\n",
        "train_labels =to_categorical(train_labels, 5)\n",
        "val_labels =to_categorical(val_labels, 5)\n",
        "labels_test =to_categorical(labels_test, 4)\n",
        "print(train_labels.shape)\n",
        "print(val_labels.shape)\n",
        "print(labels_test.shape)"
      ],
      "metadata": {
        "id": "QyyVCSJ6kCeC",
        "collapsed": true
      },
      "execution_count": null,
      "outputs": []
    },
    {
      "cell_type": "code",
      "source": [
        "# Define a function to load all videos from a query folder\n",
        "def load_query_videos_from_folder(query_folder_path, img_height, img_width, sequence_length):\n",
        "    query_videos = []\n",
        "    data_gen = ImageDataGenerator(rescale=1./255)\n",
        "\n",
        "    for video_file in os.listdir(query_folder_path):\n",
        "        video_path = os.path.join(query_folder_path, video_file)\n",
        "        video_reader = cv2.VideoCapture(video_path)\n",
        "\n",
        "        frames = []\n",
        "        video_frames_count = int(video_reader.get(cv2.CAP_PROP_FRAME_COUNT))\n",
        "        skip_frames_window = max(int(video_frames_count / sequence_length), 1)\n",
        "\n",
        "        for frame_counter in range(sequence_length):\n",
        "            video_reader.set(cv2.CAP_PROP_POS_FRAMES, frame_counter * skip_frames_window)\n",
        "            success, frame = video_reader.read()\n",
        "            if not success:\n",
        "                break\n",
        "            resized_frame = cv2.resize(frame, (img_height, img_width))\n",
        "            normalized_frame = resized_frame / 255.0\n",
        "            frames.append(normalized_frame)\n",
        "\n",
        "        while len(frames) < sequence_length:\n",
        "            frames.append(frames[-1])\n",
        "\n",
        "        query_videos.append(np.array(frames))\n",
        "        video_reader.release()\n",
        "\n",
        "    return np.array(query_videos)\n",
        "\n",
        "# Define the path query dataset folder\n",
        "query_folder_path = \"/content/drive/MyDrive/Colab Notebooks/Few Shot video classification/Test/Query\"\n",
        "\n",
        "# Load query videos from the folder\n",
        "query_data = load_query_videos_from_folder(query_folder_path, IMAGE_HEIGHT, IMAGE_WIDTH, SEQUENCE_LENGTH)"
      ],
      "metadata": {
        "id": "5oZfw8PAwQqw"
      },
      "execution_count": null,
      "outputs": []
    },
    {
      "cell_type": "code",
      "source": [
        "files_list1= os.listdir (os.path.join(\"/content/drive/MyDrive/Colab Notebooks/Few Shot video classification/Test\", \"Query\"))\n",
        "# Iterate through all the files present in the files list.\n",
        "query_video_paths = []\n",
        "for file_name in files_list1:\n",
        "# Get the complete video path.\n",
        "  video_file_path1 = os.path.join(\"/content/drive/MyDrive/Colab Notebooks/Few Shot video classification/Test/Query\", file_name)\n",
        "  i=video_file_path1.rfind('_')\n",
        "  j=video_file_path1.rfind('.')\n",
        "  query_video_paths.append(int(video_file_path1[i+1:j]))\n",
        "#Extract the frames of the video file."
      ],
      "metadata": {
        "id": "ARGNJWAmwUc3"
      },
      "execution_count": null,
      "outputs": []
    },
    {
      "cell_type": "markdown",
      "source": [
        "UPTO THIS I HAVE INITIALISED ALL FRAMES AND LABEL OF THE TRAIN,SUPPORT AND QUERY FOLDER AND ADJUST THEIR SHAPES AS REQUIRED\n"
      ],
      "metadata": {
        "id": "Pj7pJkhzzkOl"
      }
    },
    {
      "cell_type": "code",
      "source": [
        "def create_lrcn_with_resnet(input_shape=(32, 224, 224, 3), num_classes=5):\n",
        "    model = Sequential()\n",
        "\n",
        "    resnet_base = ResNet50(weights='imagenet', include_top=False, input_shape=(224, 224, 3))\n",
        "    for layer in resnet_base.layers[:-30]:\n",
        "        layer.trainable = False  # Freeze early layers initially\n",
        "\n",
        "    model.add(TimeDistributed(resnet_base, input_shape=input_shape))\n",
        "    model.add(TimeDistributed(Conv2D(16, (3, 3), padding='same', activation='relu', kernel_regularizer=tf.keras.regularizers.l2(0.01))))\n",
        "    model.add(TimeDistributed(BatchNormalization()))\n",
        "    model.add(TimeDistributed(MaxPooling2D((2, 2))))\n",
        "    model.add(TimeDistributed(Dropout(0.3)))\n",
        "\n",
        "    model.add(TimeDistributed(Conv2D(32, (3, 3), padding='same', activation='relu', kernel_regularizer=tf.keras.regularizers.l2(0.01))))\n",
        "    model.add(TimeDistributed(BatchNormalization()))\n",
        "    model.add(TimeDistributed(MaxPooling2D((2, 2))))\n",
        "    model.add(TimeDistributed(Dropout(0.3)))\n",
        "\n",
        "    model.add(TimeDistributed(GlobalAveragePooling2D()))\n",
        "\n",
        "    model.add(LSTM(64, return_sequences=False))\n",
        "    model.add(Dropout(0.3))\n",
        "\n",
        "    model.add(Dense(4, activation='softmax'))\n",
        "\n",
        "    return model"
      ],
      "metadata": {
        "id": "nFGVKjILkFHT"
      },
      "execution_count": null,
      "outputs": []
    },
    {
      "cell_type": "code",
      "source": [
        "class MAML:\n",
        "    def __init__(self, model, learning_rate=1e-4, meta_lr=1e-3, num_adapt_steps=5):\n",
        "        self.model = model\n",
        "        self.learning_rate = learning_rate\n",
        "        self.meta_lr = meta_lr\n",
        "        self.num_adapt_steps = num_adapt_steps\n",
        "        self.optimizer = tf.keras.optimizers.Adam(learning_rate=self.meta_lr)\n",
        "\n",
        "    def loss_function(self, y_true, y_pred):\n",
        "        \"\"\"Calculate categorical cross-entropy loss.\"\"\"\n",
        "        return tf.reduce_mean(tf.keras.losses.categorical_crossentropy(y_true, y_pred))\n",
        "\n",
        "    def adapt(self, x_support, y_support):\n",
        "        \"\"\"Perform inner-loop adaptation using the support set.\"\"\"\n",
        "        for step in range(self.num_adapt_steps):\n",
        "            initial_weights = [tf.identity(var) for var in self.model.trainable_variables]\n",
        "            print(\"Support Shape:\", x_support.shape)\n",
        "            print(\"Support Labels Shape:\", y_support.shape)\n",
        "\n",
        "            with tf.GradientTape() as tape:\n",
        "                predictions = self.model(x_support, training=True)\n",
        "                loss = self.loss_function(y_support, predictions)\n",
        "\n",
        "            gradients = tape.gradient(loss, self.model.trainable_variables)\n",
        "\n",
        "            # Log the gradient norms for debugging\n",
        "            gradient_norms = [tf.norm(grad).numpy() for grad in gradients if grad is not None]\n",
        "            print(f\"Adaptation Step {step + 1}, Gradient Norms: {gradient_norms}\")\n",
        "\n",
        "            # Update model weights\n",
        "            for var, grad in zip(self.model.trainable_variables, gradients):\n",
        "                var.assign_sub(self.learning_rate * grad)\n",
        "\n",
        "            weight_diffs = [tf.norm(var - init_var).numpy() for var, init_var in zip(self.model.trainable_variables, initial_weights)]\n",
        "            print(f\"Adaptation Step {step + 1}, Weight Differences: {weight_diffs}\")\n",
        "\n",
        "    def meta_train_step(self, task_batch):\n",
        "        \"\"\"Perform one meta-training step over a batch of tasks.\"\"\"\n",
        "        meta_gradients = [tf.zeros_like(weight) for weight in self.model.trainable_variables]\n",
        "\n",
        "        for task_data in task_batch:\n",
        "            x_support, y_support, x_query, y_query = task_data\n",
        "            print(y_support)\n",
        "            print(\"Support Shape:\", x_support.shape)\n",
        "            print(\"Support Labels Shape:\", y_support.shape)\n",
        "            print(\"Query Shape:\", x_query.shape)\n",
        "            print(\"Query Labels Shape:\", y_query.shape)\n",
        "            # Adapt to support set\n",
        "\n",
        "            self.adapt(x_support, y_support)\n",
        "\n",
        "            with tf.GradientTape() as tape:\n",
        "                predictions = self.model(x_query, training=True)\n",
        "                loss = self.loss_function(y_query, predictions)\n",
        "\n",
        "            task_gradients = tape.gradient(loss, self.model.trainable_variables)\n",
        "            meta_gradients = [meta_g + task_g for meta_g, task_g in zip(meta_gradients, task_gradients)]\n",
        "\n",
        "        self.optimizer.apply_gradients(zip(meta_gradients, self.model.trainable_variables))\n",
        "\n",
        "    def train(self, task_batch, epochs, validation_data=None, patience=5):\n",
        "      \"\"\"Train the model using meta-learning approach.\"\"\"\n",
        "      best_val_loss = float('inf')\n",
        "      wait = 0\n",
        "\n",
        "      for epoch in range(epochs):\n",
        "        for batch in task_batch:\n",
        "            self.meta_train_step(batch)\n",
        "        print(f\"Epoch {epoch + 1}/{epochs} complete.\")\n",
        "\n",
        "        # Evaluate on validation data\n",
        "        if validation_data:\n",
        "            val_support_data, val_support_labels, val_query_data, val_query_labels = validation_data\n",
        "            val_predictions = self.predict_query(val_support_data, val_support_labels, val_query_data)\n",
        "\n",
        "            # Compute validation loss\n",
        "            val_loss = self.loss_function(val_query_labels, val_predictions)\n",
        "            print(f\"Validation Loss: {val_loss.numpy()}\")\n",
        "\n",
        "            # Compute validation accuracy\n",
        "            val_true_labels = np.argmax(val_query_labels, axis=1)\n",
        "            val_accuracy = np.mean(val_predictions == val_true_labels)\n",
        "            print(f\"Validation Accuracy: {val_accuracy * 100:.2f}%\")\n",
        "\n",
        "            # Early stopping\n",
        "            if val_loss < best_val_loss:\n",
        "                best_val_loss = val_loss\n",
        "                wait = 0\n",
        "            else:\n",
        "                wait += 1\n",
        "                if wait >= patience:\n",
        "                    print(\"Early stopping triggered.\")\n",
        "                    return\n",
        "\n",
        "    def predict_query(self, x_support, y_support, x_query):\n",
        "        \"\"\"Adapt to the support set and predict the labels for the query set.\"\"\"\n",
        "        self.adapt(x_support, y_support)\n",
        "        print(\"x_query shape:\", x_query.shape)\n",
        "        print(\"Model input shape:\", self.model.input_shape)\n",
        "\n",
        "        predictions = self.model.predict(x_query, verbose=1)\n",
        "        predicted_labels = np.argmax(predictions, axis=1)\n",
        "\n",
        "        return predicted_labels\n",
        "\n"
      ],
      "metadata": {
        "id": "HUZt4DIzwzI-"
      },
      "execution_count": null,
      "outputs": []
    },
    {
      "cell_type": "code",
      "source": [
        "def predict_on_query_set(maml, support_data, support_labels, query_data, query_video_paths, output_csv_file):\n",
        "    \"\"\"Adapt model on support set and predict query data, saving results to CSV.\"\"\"\n",
        "    print(\"Adapting model to support set...\")\n",
        "    predicted_classes = maml.predict_query(support_data, support_labels, query_data)\n",
        "\n",
        "    try:\n",
        "        print(f\"Saving predictions to {output_csv_file}...\")\n",
        "        with open(output_csv_file, mode='w', newline='') as file:\n",
        "            writer = csv.writer(file)\n",
        "            writer.writerow(['VID_ID', 'LABEL'])\n",
        "\n",
        "            for video_path, predicted_class in zip(query_video_paths, predicted_classes):\n",
        "                writer.writerow([video_path, predicted_class])\n",
        "\n",
        "        print(\"Predictions saved successfully.\")\n",
        "    except Exception as e:\n",
        "        print(f\"Error saving predictions: {e}\")"
      ],
      "metadata": {
        "id": "eZbx3QHBxkZo"
      },
      "execution_count": null,
      "outputs": []
    },
    {
      "cell_type": "code",
      "source": [
        "def create_task_batch(train_data, train_labels, query_data, query_labels, batch_size=2, sequence_length=40):\n",
        "    task_batch = []\n",
        "    num_tasks = len(train_data) // batch_size\n",
        "\n",
        "    for i in range(num_tasks):\n",
        "        start_idx = i * batch_size\n",
        "        end_idx = (i + 1) * batch_size\n",
        "        x_support = train_data[start_idx:end_idx]\n",
        "        y_support = train_labels[start_idx:end_idx]\n",
        "\n",
        "        query_start_idx = (i) * batch_size\n",
        "        query_end_idx = min((i + 1) * batch_size, len(query_data))\n",
        "\n",
        "        if query_start_idx >= len(query_data):\n",
        "            break\n",
        "\n",
        "        x_query = query_data[query_start_idx:query_end_idx]\n",
        "        y_query = query_labels[query_start_idx:query_end_idx]\n",
        "\n",
        "        print(y_support)\n",
        "        print(y_query)\n",
        "        # Add a new axis to include the batch dimension\n",
        "        print(\"Support Shape:\", x_support.shape)\n",
        "        print(\"Support Labels Shape:\", y_support.shape)\n",
        "        print(\"Query Shape:\", x_query.shape)\n",
        "        print(\"Query Labels Shape:\", y_query.shape)\n",
        "        dem=[]\n",
        "        dem.append(x_support)\n",
        "        dem.append(y_support)\n",
        "        dem.append(x_query)\n",
        "        dem.append(y_query)\n",
        "\n",
        "        task_batch.append([dem])\n",
        "\n",
        "    return task_batch\n"
      ],
      "metadata": {
        "id": "eZizHovmxoEI"
      },
      "execution_count": null,
      "outputs": []
    },
    {
      "cell_type": "code",
      "source": [
        "# Loading your actual data here\n",
        "support_data = features_test  # Loading support data\n",
        "support_labels = labels_test    # Loading support labels\n",
        "\n",
        "# Create task batch\n",
        "task_batch = create_task_batch(support_data,support_labels,support_data,support_labels)\n",
        "print(\"<<<<<<<<<<<<<<<<<<<<<<<<<<<<<<\")# for better understanding\n",
        "#checking the task batch\n",
        "for batch in task_batch:\n",
        "   for task_data in batch:\n",
        "            x_support, y_support, x_query, y_query = task_data\n",
        "            print(\"Support Shape:\", x_support.shape)\n",
        "            print(\"Support Labels Shape:\", y_support.shape)\n",
        "            print(\"Query Shape:\", x_query.shape)\n",
        "            print(\"Query Labels Shape:\", y_query.shape)\n",
        "#intilialising maml\n",
        "maml = MAML(create_lrcn_with_resnet(), learning_rate=1e-4, meta_lr=1e-3, num_adapt_steps=3)\n",
        "print(\"<<<<<<<<<<<<<<<<<<<<<<<<<<<<<<<<\")# for better understanding\n",
        "#training\n",
        "maml.train(task_batch, epochs=5)\n",
        "print(\"<<<<<<<<<<<<<<<<<<<<<<<<<<<<<<<<<<\")# for better understandin\n",
        "\n",
        "output_csv_file = 'predictionsfinal.csv'#name of the folder to save\n",
        "# Predict and save to CSV\n",
        "predict_on_query_set(maml, support_data, support_labels, query_data, query_video_paths, output_csv_file)"
      ],
      "metadata": {
        "id": "RoOUj7rlxuDC"
      },
      "execution_count": null,
      "outputs": []
    },
    {
      "cell_type": "markdown",
      "source": [
        "THIS IS THE SECOND WAY OF APPROACHING THE QUESTION"
      ],
      "metadata": {
        "id": "MByTJ4qK0ANM"
      }
    },
    {
      "cell_type": "code",
      "source": [
        "def create_LRCN_model():\n",
        "    model = Sequential()\n",
        "\n",
        "    model.add(TimeDistributed(Conv2D(16, (3, 3), padding='same', activation='relu'), input_shape=(SEQUENCE_LENGTH, IMAGE_HEIGHT, IMAGE_WIDTH, 3)))\n",
        "    model.add(TimeDistributed(MaxPooling2D((4, 4))))\n",
        "    model.add(TimeDistributed(Dropout(0.2)))\n",
        "\n",
        "    model.add(TimeDistributed(Conv2D(32, (3, 3), padding='same', activation='relu')))\n",
        "    model.add(TimeDistributed(MaxPooling2D((4, 4))))\n",
        "    model.add(TimeDistributed(Dropout(0.2)))\n",
        "\n",
        "    model.add(TimeDistributed(Conv2D(64, (3, 3), padding='same', activation='relu')))\n",
        "    model.add(TimeDistributed(MaxPooling2D((2, 2))))\n",
        "    model.add(TimeDistributed(Dropout(0.2)))\n",
        "\n",
        "    model.add(TimeDistributed(Conv2D(128, (3, 3), padding='same', activation='relu')))\n",
        "    model.add(TimeDistributed(MaxPooling2D((2, 2))))\n",
        "    model.add(TimeDistributed(Dropout(0.2)))\n",
        "\n",
        "    model.add(TimeDistributed(Flatten()))\n",
        "    model.add(LSTM(128, return_sequences=False))\n",
        "    model.add(Dropout(0.5))\n",
        "    model.add(Dense(5, activation='softmax'))\n",
        "\n",
        "    model.compile(optimizer=Adam(learning_rate=LEARNING_RATE), loss='categorical_crossentropy', metrics=['accuracy'])\n",
        "    model.summary()\n",
        "    return model\n"
      ],
      "metadata": {
        "id": "Z5xA3hn64Fq3"
      },
      "execution_count": null,
      "outputs": []
    },
    {
      "cell_type": "code",
      "source": [
        "# Construct the required LRCN model.\n",
        "LRCN_model=create_LRCN_model()\n",
        "# Display the success message.\n",
        "print(\"Model Created Successfully!\")"
      ],
      "metadata": {
        "colab": {
          "base_uri": "https://localhost:8080/"
        },
        "id": "BneFPsw9kIiy",
        "outputId": "344ddfdc-628b-4a1e-e2ed-f5bdd59a8da1",
        "collapsed": true
      },
      "execution_count": null,
      "outputs": [
        {
          "output_type": "stream",
          "name": "stdout",
          "text": [
            ""
          ]
        }
      ]
    },
    {
      "cell_type": "code",
      "source": [
        "# Create an Instance of Early Stopping Callback.\n",
        "# Learning rate scheduler\n",
        "def lr_scheduler(epoch, lr):\n",
        "    if epoch < 10:\n",
        "        return 1e-4\n",
        "    elif epoch < 20:\n",
        "        return 1e-5\n",
        "    else:\n",
        "        return 1e-6\n",
        "# Early stopping to prevent overfitting\n",
        "early_stopping = EarlyStopping(monitor='val_loss', patience=5, mode='min',restore_best_weights=True)\n",
        "# Set a higher learning rate\n",
        "LRCN_model.compile(optimizer='adam', loss='categorical_crossentropy', metrics=['accuracy'])\n",
        "\n",
        "#Start training the model..\n",
        "LRCN_model_training_history = LRCN_model.fit(train_data, train_labels, epochs=70, validation_data=(val_data, val_labels), batch_size =4, callbacks=[early_stopping, LearningRateScheduler(lr_scheduler)])"
      ],
      "metadata": {
        "colab": {
          "base_uri": "https://localhost:8080/"
        },
        "collapsed": true,
        "id": "6Y4EMhU0xoPi",
        "outputId": "4f7b1b63-415f-488f-d0bb-8b7ad0124849"
      },
      "execution_count": null,
      "outputs": [
        {
          "output_type": "stream",
          "name": "stdout",
          "text": [
            ""
          ]
        }
      ]
    },
    {
      "cell_type": "code",
      "source": [
        "class MAML:\n",
        "    def __init__(self, model, learning_rate=1e-4, meta_lr=1e-3, num_adapt_steps=5):\n",
        "        self.model = model\n",
        "        self.learning_rate = learning_rate\n",
        "        self.meta_lr = meta_lr\n",
        "        self.num_adapt_steps = num_adapt_steps\n",
        "        self.optimizer = tf.keras.optimizers.Adam(learning_rate=self.meta_lr)\n",
        "\n",
        "    def loss_function(self, y_true, y_pred):\n",
        "        \"\"\"Calculate categorical cross-entropy loss.\"\"\"\n",
        "        return tf.reduce_mean(tf.keras.losses.categorical_crossentropy(y_true, y_pred))\n",
        "\n",
        "    def adapt(self, x_support, y_support, num_support_classes):\n",
        "        \"\"\"Adapt the model to the support set, which has different classes.\"\"\"\n",
        "        # Dynamically adjust the final Dense layer to match the number of support classes\n",
        "        self.model.pop()  # Remove the existing last layer\n",
        "        self.model.add(Dense(num_support_classes, activation='softmax'))  # Add new output layer with num_support_classes units\n",
        "        self.model.compile(optimizer=self.optimizer, loss=self.loss_function)\n",
        "\n",
        "\n",
        "        # Fine-tune the model on the support set\n",
        "        for step in range(self.num_adapt_steps):\n",
        "            with tf.GradientTape() as tape:\n",
        "                predictions = self.model(x_support, training=True)\n",
        "                loss = self.loss_function(y_support, predictions)\n",
        "            gradients = tape.gradient(loss, self.model.trainable_variables)\n",
        "            gradient_norms = [tf.norm(grad).numpy() for grad in gradients if grad is not None]\n",
        "            print(f\"Adaptation Step {step + 1}, Gradient Norms: {gradient_norms}\")\n",
        "            self.optimizer.apply_gradients(zip(gradients, self.model.trainable_variables))\n",
        "\n",
        "\n",
        "    def predict_query(self, x_support, y_support, x_query,num_class):\n",
        "        \"\"\"Adapt to the support set and predict the labels for the query set.\"\"\"\n",
        "        self.adapt(x_support, y_support,num_class)\n",
        "        predictions = self.model.predict(x_query, verbose=2)\n",
        "        predicted_labels = np.argmax(predictions, axis=1)\n",
        "\n",
        "        return predicted_labels\n",
        "\n",
        "def predict_on_query_set(maml, support_data, support_labels, query_data, query_video_paths, output_csv_file,num_class):\n",
        "    \"\"\"Adapt model on support set and predict query data, saving results to CSV.\"\"\"\n",
        "    print(\"Adapting model to support set...\")\n",
        "    predicted_classes = maml.predict_query(support_data, support_labels, query_data,num_class)\n",
        "\n",
        "    try:\n",
        "        print(f\"Saving predictions to {output_csv_file}...\")\n",
        "        with open(output_csv_file, mode='w', newline='') as file:\n",
        "            writer = csv.writer(file)\n",
        "            writer.writerow(['VID_ID', 'LABEL'])\n",
        "            for video_path, predicted_class in zip(query_video_paths, predicted_classes):\n",
        "                writer.writerow([video_path, predicted_class])\n",
        "    except Exception as e:\n",
        "        print(f\"Error saving predictions: {e}\")\n",
        "\n",
        "\n",
        "\n",
        "# Load your actual data here\n",
        "support_data = features_test  # Load your support data\n",
        "support_labels = labels_test    # Load your support labels\n",
        "maml = MAML(LRCN_model, learning_rate=1e-4, meta_lr=1e-3, num_adapt_steps=4)\n",
        "#name of the file to save csv result\n",
        "output_csv_file = 'predictionsfinal.csv'\n",
        "# Predict and save to CSV\n",
        "predict_on_query_set(maml, support_data, support_labels, query_data, query_video_paths, output_csv_file,4)# 4 is the no. of the suppprt set class\n"
      ],
      "metadata": {
        "id": "y77AmIqhkBWO"
      },
      "execution_count": null,
      "outputs": []
    },
    {
      "cell_type": "markdown",
      "source": [],
      "metadata": {
        "id": "d4phXRLXCPv8"
      }
    }
  ]
}
